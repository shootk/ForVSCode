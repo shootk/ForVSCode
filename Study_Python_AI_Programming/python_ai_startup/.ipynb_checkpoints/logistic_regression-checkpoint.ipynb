{
 "cells": [
  {
   "cell_type": "code",
   "execution_count": 1,
   "metadata": {},
   "outputs": [],
   "source": [
    "import numpy as np\n",
    "from sklearn import linear_model"
   ]
  },
  {
   "cell_type": "code",
   "execution_count": 2,
   "metadata": {},
   "outputs": [],
   "source": [
    "X = np.array([[3.1,7.2],[4,6.7],[2.9,8],[5.1,4.5],[6,5],\n",
    "              [5.6,5],[3.3,0.4],[3.9,0.9],[2.8,1],[0.5,3.4],\n",
    "              [1,4],[0.6,4.9]])\n",
    "\n",
    "y = np.array([0,0,0,1,1,1,2,2,2,3,3,3])"
   ]
  },
  {
   "cell_type": "code",
   "execution_count": 3,
   "metadata": {},
   "outputs": [
    {
     "ename": "NameError",
     "evalue": "name 'liner_model' is not defined",
     "output_type": "error",
     "traceback": [
      "\u001b[1;31m---------------------------------------------------------------------------\u001b[0m",
      "\u001b[1;31mNameError\u001b[0m                                 Traceback (most recent call last)",
      "\u001b[1;32m<ipython-input-3-4e9fd7a41571>\u001b[0m in \u001b[0;36m<module>\u001b[1;34m\u001b[0m\n\u001b[1;32m----> 1\u001b[1;33m classifier = liner_model.LogisticRegression(solver = 'liblinear',\n\u001b[0m\u001b[0;32m      2\u001b[0m                                             C=1,multi_class='auto')\n",
      "\u001b[1;31mNameError\u001b[0m: name 'liner_model' is not defined"
     ]
    }
   ],
   "source": [
    "classifier = linear_model.LogisticRegression(solver = 'liblinear',\n",
    "                                            C=1,multi_class='auto')"
   ]
  },
  {
   "cell_type": "code",
   "execution_count": null,
   "metadata": {},
   "outputs": [],
   "source": [
    "classifier.fit(X,y)"
   ]
  },
  {
   "cell_type": "code",
   "execution_count": null,
   "metadata": {},
   "outputs": [],
   "source": [
    "%run utilities.ipynb\n",
    "\n",
    "visyalize_classifier(classifier,X,y)"
   ]
  },
  {
   "cell_type": "code",
   "execution_count": null,
   "metadata": {},
   "outputs": [],
   "source": []
  }
 ],
 "metadata": {
  "kernelspec": {
   "display_name": "Python 3",
   "language": "python",
   "name": "python3"
  },
  "language_info": {
   "codemirror_mode": {
    "name": "ipython",
    "version": 3
   },
   "file_extension": ".py",
   "mimetype": "text/x-python",
   "name": "python",
   "nbconvert_exporter": "python",
   "pygments_lexer": "ipython3",
   "version": "3.7.3"
  }
 },
 "nbformat": 4,
 "nbformat_minor": 2
}
